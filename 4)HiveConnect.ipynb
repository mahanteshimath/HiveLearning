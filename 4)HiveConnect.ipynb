{
 "cells": [
  {
   "cell_type": "code",
   "execution_count": 2,
   "id": "46c80f99",
   "metadata": {},
   "outputs": [
    {
     "ename": "ModuleNotFoundError",
     "evalue": "No module named 'pyhive'",
     "output_type": "error",
     "traceback": [
      "\u001b[1;31m---------------------------------------------------------------------------\u001b[0m",
      "\u001b[1;31mModuleNotFoundError\u001b[0m                       Traceback (most recent call last)",
      "Input \u001b[1;32mIn [2]\u001b[0m, in \u001b[0;36m<cell line: 18>\u001b[1;34m()\u001b[0m\n\u001b[0;32m     15\u001b[0m     \u001b[38;5;28;01mreturn\u001b[39;00m result\n\u001b[0;32m     17\u001b[0m \u001b[38;5;66;03m# Call above function\u001b[39;00m\n\u001b[1;32m---> 18\u001b[0m output \u001b[38;5;241m=\u001b[39m \u001b[43mhiveconnection\u001b[49m\u001b[43m(\u001b[49m\u001b[43mhost_name\u001b[49m\u001b[43m,\u001b[49m\u001b[43m \u001b[49m\u001b[43mport\u001b[49m\u001b[43m,\u001b[49m\u001b[43m \u001b[49m\u001b[43muser\u001b[49m\u001b[43m,\u001b[49m\u001b[43mpassword\u001b[49m\u001b[43m,\u001b[49m\u001b[43m \u001b[49m\u001b[43mdatabase\u001b[49m\u001b[43m)\u001b[49m\n\u001b[0;32m     19\u001b[0m \u001b[38;5;28mprint\u001b[39m(output)\n",
      "Input \u001b[1;32mIn [2]\u001b[0m, in \u001b[0;36mhiveconnection\u001b[1;34m(host_name, port, user, password, database)\u001b[0m\n\u001b[0;32m      7\u001b[0m \u001b[38;5;28;01mdef\u001b[39;00m \u001b[38;5;21mhiveconnection\u001b[39m(host_name, port, user,password, database):\n\u001b[1;32m----> 8\u001b[0m     \u001b[38;5;28;01mfrom\u001b[39;00m \u001b[38;5;21;01mpyhive\u001b[39;00m \u001b[38;5;28;01mimport\u001b[39;00m hive\n\u001b[0;32m      9\u001b[0m     conn \u001b[38;5;241m=\u001b[39m hive\u001b[38;5;241m.\u001b[39mConnection(host\u001b[38;5;241m=\u001b[39mhost_name, port\u001b[38;5;241m=\u001b[39mport, username\u001b[38;5;241m=\u001b[39muser, password\u001b[38;5;241m=\u001b[39mpassword,\n\u001b[0;32m     10\u001b[0m                            database\u001b[38;5;241m=\u001b[39mdatabase, auth\u001b[38;5;241m=\u001b[39m\u001b[38;5;124m'\u001b[39m\u001b[38;5;124mCUSTOM\u001b[39m\u001b[38;5;124m'\u001b[39m)\n\u001b[0;32m     11\u001b[0m     cur \u001b[38;5;241m=\u001b[39m conn\u001b[38;5;241m.\u001b[39mcursor()\n",
      "\u001b[1;31mModuleNotFoundError\u001b[0m: No module named 'pyhive'"
     ]
    }
   ],
   "source": [
    "\n",
    "\n",
    "host_name = \"192.168.56.101\"\n",
    "port = 22\n",
    "user = \"cloudera\"\n",
    "password = \"cloudera\"\n",
    "database=\"monty\"\n",
    "\n",
    "def hiveconnection(host_name, port, user,password, database):\n",
    "    from pyhive import hive\n",
    "    conn = hive.Connection(host=host_name, port=port, username=user, password=password,\n",
    "                           database=database, auth='CUSTOM')\n",
    "    cur = conn.cursor()\n",
    "    cur.execute('select *  from monty.airqualityuci where date like '%2004%' limit 2')\n",
    "    result = cur.fetchall()\n",
    "\n",
    "    return result\n",
    "\n",
    "# Call above function\n",
    "output = hiveconnection(host_name, port, user,password, database)\n",
    "print(output)"
   ]
  },
  {
   "cell_type": "code",
   "execution_count": null,
   "id": "5a8f871b",
   "metadata": {},
   "outputs": [],
   "source": []
  }
 ],
 "metadata": {
  "kernelspec": {
   "display_name": "Python 3 (ipykernel)",
   "language": "python",
   "name": "python3"
  },
  "language_info": {
   "codemirror_mode": {
    "name": "ipython",
    "version": 3
   },
   "file_extension": ".py",
   "mimetype": "text/x-python",
   "name": "python",
   "nbconvert_exporter": "python",
   "pygments_lexer": "ipython3",
   "version": "3.9.12"
  }
 },
 "nbformat": 4,
 "nbformat_minor": 5
}
