{
 "cells": [
  {
   "cell_type": "markdown",
   "id": "b4fac148",
   "metadata": {},
   "source": [
    "### For extracting data, creating sub tables for data processing\n"
   ]
  },
  {
   "cell_type": "code",
   "execution_count": null,
   "id": "d21d17f5",
   "metadata": {},
   "outputs": [],
   "source": [
    "!pip install PyHive"
   ]
  },
  {
   "cell_type": "code",
   "execution_count": null,
   "id": "7ce201da",
   "metadata": {},
   "outputs": [],
   "source": [
    "from pyhive import hive\n",
    "host_name = \"192.168.56.101\"\n",
    "port = 22\n",
    "user = \"cloudera\"\n",
    "password = \"cloudera\"\n",
    "database=\"monty\"\n",
    "\n",
    "def hiveconnection(host_name, port, user,password, database):\n",
    "  \n",
    "    conn = hive.Connection(host=host_name, port=port, username=user, password=password,\n",
    "                           database=database, auth='CUSTOM')\n",
    "    cur = conn.cursor()\n",
    "    cur.execute('select *  from monty.airqualityuci where date like '%2004%' limit 2')\n",
    "    result = cur.fetchall()\n",
    "\n",
    "    return result\n",
    "\n",
    "# Call above function\n",
    "output = hiveconnection(host_name, port, user,password, database)\n",
    "print(output)"
   ]
  },
  {
   "cell_type": "markdown",
   "id": "3597694c",
   "metadata": {},
   "source": [
    "###  Join "
   ]
  },
  {
   "cell_type": "code",
   "execution_count": null,
   "id": "6e02156c",
   "metadata": {},
   "outputs": [],
   "source": [
    "from pyhive import hive\n",
    "host_name = \"192.168.56.101\"\n",
    "port = 22\n",
    "user = \"cloudera\"\n",
    "password = \"cloudera\"\n",
    "database=\"monty\"\n",
    "\n",
    "def hiveconnection(host_name, port, user,password, database):\n",
    "  \n",
    "    conn = hive.Connection(host=host_name, port=port, username=user, password=password,\n",
    "                           database=database, auth='CUSTOM')\n",
    "    cur = conn.cursor()\n",
    "    cur.execute('select c.*,o.*  from monty.customers c inner join monty.order o on (o.customer_id=c.id)')\n",
    "    result = cur.fetchall()\n",
    "\n",
    "    return result\n",
    "\n",
    "# Call above function\n",
    "output = hiveconnection(host_name, port, user,password, database)\n",
    "print(output)"
   ]
  },
  {
   "cell_type": "markdown",
   "id": "c34aeb78",
   "metadata": {},
   "source": [
    "## Filter"
   ]
  },
  {
   "cell_type": "code",
   "execution_count": null,
   "id": "60df3b1f",
   "metadata": {},
   "outputs": [],
   "source": [
    "from pyhive import hive\n",
    "host_name = \"192.168.56.101\"\n",
    "port = 22\n",
    "user = \"cloudera\"\n",
    "password = \"cloudera\"\n",
    "database=\"monty\"\n",
    "\n",
    "def hiveconnection(host_name, port, user,password, database):\n",
    "  \n",
    "    conn = hive.Connection(host=host_name, port=port, username=user, password=password,\n",
    "                           database=database, auth='CUSTOM')\n",
    "    cur = conn.cursor()\n",
    "    cur.execute('select nox , regexp_replace(nox,\"\\\\-\",\"\\\\$\") from monty.airqualityuci where  nox<0  limit 10')\n",
    "    result = cur.fetchall()\n",
    "\n",
    "    return result\n",
    "\n",
    "# Call above function\n",
    "output = hiveconnection(host_name, port, user,password, database)\n",
    "print(output)"
   ]
  },
  {
   "cell_type": "markdown",
   "id": "d89780f3",
   "metadata": {},
   "source": [
    "## DROP table"
   ]
  },
  {
   "cell_type": "code",
   "execution_count": null,
   "id": "0b766567",
   "metadata": {},
   "outputs": [],
   "source": [
    "from pyhive import hive\n",
    "host_name = \"192.168.56.101\"\n",
    "port = 22\n",
    "user = \"cloudera\"\n",
    "password = \"cloudera\"\n",
    "database=\"monty\"\n",
    "\n",
    "def hiveconnection(host_name, port, user,password, database):\n",
    "  \n",
    "    conn = hive.Connection(host=host_name, port=port, username=user, password=password,\n",
    "                           database=database, auth='CUSTOM')\n",
    "    cur = conn.cursor()\n",
    "    cur.execute('drop table monty.airqualityuci')\n",
    "    #result = cur.fetchall()\n",
    "\n",
    "    return result\n",
    "\n",
    "# Call above function\n",
    "output = hiveconnection(host_name, port, user,password, database)\n",
    "print(output)"
   ]
  }
 ],
 "metadata": {
  "kernelspec": {
   "display_name": "Python 3 (ipykernel)",
   "language": "python",
   "name": "python3"
  },
  "language_info": {
   "codemirror_mode": {
    "name": "ipython",
    "version": 3
   },
   "file_extension": ".py",
   "mimetype": "text/x-python",
   "name": "python",
   "nbconvert_exporter": "python",
   "pygments_lexer": "ipython3",
   "version": "3.9.12"
  }
 },
 "nbformat": 4,
 "nbformat_minor": 5
}
